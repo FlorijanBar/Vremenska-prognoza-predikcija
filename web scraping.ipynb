{
 "cells": [
  {
   "cell_type": "code",
   "execution_count": 1,
   "id": "680bb664",
   "metadata": {},
   "outputs": [
    {
     "name": "stdout",
     "output_type": "stream",
     "text": [
      "Dan: četvrtak 13:00\n",
      "Mjesto: Čakovec\n",
      "Temperatura: 31\n",
      "Oborine: 0\n",
      "Vlaga: 58\n",
      "Vjetar: 6\n",
      "Trenutno vrijeme: Poluoblačno\n",
      "Najveća temperatura: 33\n",
      "Najmanja temperatura: 21\n"
     ]
    }
   ],
   "source": [
    "import requests\n",
    "from bs4 import BeautifulSoup\n",
    "import csv\n",
    "url = \"https://www.google.com/search?q=vrijeme+Čakovec\"\n",
    "headers = {\n",
    "    \"User-Agent\": \"Mozilla/5.0 (Windows NT 10.0; Win64; x64) AppleWebKit/537.36 (KHTML, like Gecko) Chrome/111.0.0.0 Safari/537.36\"\n",
    "}\n",
    "page = requests.get(url, headers=headers)\n",
    "soup = BeautifulSoup(page.content, \"html.parser\")\n",
    "\n",
    "dan = soup.find(\"div\", attrs={\"id\": \"wob_dts\"}).text\n",
    "mjesto=soup.find(\"span\",attrs={\"class\":\"BBwThe\"}).text\n",
    "temp = soup.find(\"span\", attrs={\"id\": \"wob_tm\"}).text\n",
    "oborine=soup.find(\"span\",attrs={\"id\":\"wob_pp\"}).text\n",
    "vlaga=soup.find(\"span\",attrs={\"id\":\"wob_hm\"}).text\n",
    "vjetar=soup.find(\"span\",attrs={\"id\":\"wob_ws\"}).text\n",
    "trenut=soup.find(\"span\",attrs={\"id\":\"wob_dc\"}).text\n",
    "max_temp = soup.find(\"div\", attrs={\"class\": \"wob_df\"}).find_next(\"span\").text\n",
    "min_temp=soup.find(\"div\",attrs={\"class\":\"QrNVmd ZXCv8e\"}).find_next('span', attrs={'class': 'wob_t'}).text\n",
    "\n",
    "oborine = oborine.split()[0].strip('%')\n",
    "vlaga = vlaga.split()[0].strip('%')\n",
    "vjetar = vjetar.split()[0].strip()\n",
    "print(f\"Dan: {dan}\")\n",
    "print(f\"Mjesto: {mjesto}\")\n",
    "print(f\"Temperatura: {temp}\")\n",
    "print(f\"Oborine: {oborine}\")\n",
    "print(f\"Vlaga: {vlaga}\")\n",
    "print(f\"Vjetar: {vjetar}\")\n",
    "print(f\"Trenutno vrijeme: {trenut}\")\n",
    "print(f\"Najveća temperatura: {max_temp}\")\n",
    "print(f\"Najmanja temperatura: {min_temp}\")\n"
   ]
  },
  {
   "cell_type": "code",
   "execution_count": null,
   "id": "cd6a2f3a",
   "metadata": {},
   "outputs": [],
   "source": [
    "with open('Cakovec.csv', mode='a', newline='') as file:\n",
    "    writer = csv.writer(file, delimiter=';')\n",
    "    writer.writerow(['Dan', 'Mjesto', 'Trenutačna Temperatura', 'Oborine', 'Vlaga', 'Vjetar', 'Trenutnovrijeme',\n",
    "                     'Najveća temperatura', 'Najmanja temperatura'])\n",
    "    writer.writerow([dan, mjesto, temp, oborine, vlaga, vjetar, trenut, max_temp, min_temp])\n",
    "    "
   ]
  },
  {
   "cell_type": "code",
   "execution_count": null,
   "id": "c05a9f1e",
   "metadata": {},
   "outputs": [],
   "source": []
  },
  {
   "cell_type": "code",
   "execution_count": null,
   "id": "93fd22e7",
   "metadata": {},
   "outputs": [],
   "source": []
  }
 ],
 "metadata": {
  "kernelspec": {
   "display_name": "Python 3 (ipykernel)",
   "language": "python",
   "name": "python3"
  },
  "language_info": {
   "codemirror_mode": {
    "name": "ipython",
    "version": 3
   },
   "file_extension": ".py",
   "mimetype": "text/x-python",
   "name": "python",
   "nbconvert_exporter": "python",
   "pygments_lexer": "ipython3",
   "version": "3.10.9"
  }
 },
 "nbformat": 4,
 "nbformat_minor": 5
}
